{
 "cells": [
  {
   "cell_type": "code",
   "execution_count": 1,
   "metadata": {},
   "outputs": [],
   "source": [
    "import pandas as pd"
   ]
  },
  {
   "cell_type": "code",
   "execution_count": 2,
   "metadata": {},
   "outputs": [],
   "source": [
    "#x= pd.read_csv(\"Exports_hdl_rows_483_full.csv\")\n",
    "x= pd.read_csv(\"Additional_hdl_rows_483_full.csv\")"
   ]
  },
  {
   "cell_type": "code",
   "execution_count": 3,
   "metadata": {},
   "outputs": [
    {
     "data": {
      "text/html": [
       "<div>\n",
       "<style scoped>\n",
       "    .dataframe tbody tr th:only-of-type {\n",
       "        vertical-align: middle;\n",
       "    }\n",
       "\n",
       "    .dataframe tbody tr th {\n",
       "        vertical-align: top;\n",
       "    }\n",
       "\n",
       "    .dataframe thead th {\n",
       "        text-align: right;\n",
       "    }\n",
       "</style>\n",
       "<table border=\"1\" class=\"dataframe\">\n",
       "  <thead>\n",
       "    <tr style=\"text-align: right;\">\n",
       "      <th></th>\n",
       "      <th>donation_id</th>\n",
       "      <th>hdl_cholesterol_human</th>\n",
       "      <th>absorbance0</th>\n",
       "      <th>absorbance1</th>\n",
       "      <th>absorbance2</th>\n",
       "      <th>absorbance3</th>\n",
       "      <th>absorbance4</th>\n",
       "      <th>absorbance5</th>\n",
       "      <th>absorbance6</th>\n",
       "      <th>absorbance7</th>\n",
       "      <th>...</th>\n",
       "      <th>absorbance165</th>\n",
       "      <th>absorbance166</th>\n",
       "      <th>absorbance167</th>\n",
       "      <th>absorbance168</th>\n",
       "      <th>absorbance169</th>\n",
       "      <th>scan_number</th>\n",
       "      <th>std</th>\n",
       "      <th>temperature</th>\n",
       "      <th>humidity</th>\n",
       "      <th>hdl_cholesterol_value</th>\n",
       "    </tr>\n",
       "  </thead>\n",
       "  <tbody>\n",
       "    <tr>\n",
       "      <th>0</th>\n",
       "      <td>1993</td>\n",
       "      <td>ok</td>\n",
       "      <td>0.514279</td>\n",
       "      <td>0.513265</td>\n",
       "      <td>0.519961</td>\n",
       "      <td>0.524351</td>\n",
       "      <td>0.532302</td>\n",
       "      <td>0.539595</td>\n",
       "      <td>0.546650</td>\n",
       "      <td>0.549287</td>\n",
       "      <td>...</td>\n",
       "      <td>1.070509</td>\n",
       "      <td>1.040377</td>\n",
       "      <td>1.016050</td>\n",
       "      <td>1.008676</td>\n",
       "      <td>0.991902</td>\n",
       "      <td>30.5</td>\n",
       "      <td>0.0160</td>\n",
       "      <td>45.762833</td>\n",
       "      <td>37.695667</td>\n",
       "      <td>46.0</td>\n",
       "    </tr>\n",
       "    <tr>\n",
       "      <th>1</th>\n",
       "      <td>2015</td>\n",
       "      <td>low</td>\n",
       "      <td>0.540908</td>\n",
       "      <td>0.545688</td>\n",
       "      <td>0.550133</td>\n",
       "      <td>0.558058</td>\n",
       "      <td>0.566390</td>\n",
       "      <td>0.573959</td>\n",
       "      <td>0.579516</td>\n",
       "      <td>0.583041</td>\n",
       "      <td>...</td>\n",
       "      <td>1.327204</td>\n",
       "      <td>1.309127</td>\n",
       "      <td>1.297630</td>\n",
       "      <td>1.296178</td>\n",
       "      <td>1.304298</td>\n",
       "      <td>30.5</td>\n",
       "      <td>0.0161</td>\n",
       "      <td>46.042667</td>\n",
       "      <td>36.280667</td>\n",
       "      <td>39.0</td>\n",
       "    </tr>\n",
       "    <tr>\n",
       "      <th>2</th>\n",
       "      <td>2033</td>\n",
       "      <td>low</td>\n",
       "      <td>0.521742</td>\n",
       "      <td>0.526067</td>\n",
       "      <td>0.530532</td>\n",
       "      <td>0.537283</td>\n",
       "      <td>0.543335</td>\n",
       "      <td>0.550589</td>\n",
       "      <td>0.556057</td>\n",
       "      <td>0.561660</td>\n",
       "      <td>...</td>\n",
       "      <td>1.282168</td>\n",
       "      <td>1.271663</td>\n",
       "      <td>1.259443</td>\n",
       "      <td>1.262324</td>\n",
       "      <td>1.269575</td>\n",
       "      <td>30.5</td>\n",
       "      <td>0.0105</td>\n",
       "      <td>43.774500</td>\n",
       "      <td>36.292833</td>\n",
       "      <td>41.0</td>\n",
       "    </tr>\n",
       "    <tr>\n",
       "      <th>3</th>\n",
       "      <td>2057</td>\n",
       "      <td>ok</td>\n",
       "      <td>0.544772</td>\n",
       "      <td>0.546507</td>\n",
       "      <td>0.549925</td>\n",
       "      <td>0.554592</td>\n",
       "      <td>0.558680</td>\n",
       "      <td>0.564276</td>\n",
       "      <td>0.569732</td>\n",
       "      <td>0.575052</td>\n",
       "      <td>...</td>\n",
       "      <td>1.207374</td>\n",
       "      <td>1.205732</td>\n",
       "      <td>1.202735</td>\n",
       "      <td>1.205207</td>\n",
       "      <td>1.202510</td>\n",
       "      <td>30.5</td>\n",
       "      <td>0.0150</td>\n",
       "      <td>40.251500</td>\n",
       "      <td>44.300000</td>\n",
       "      <td>54.0</td>\n",
       "    </tr>\n",
       "    <tr>\n",
       "      <th>4</th>\n",
       "      <td>2062</td>\n",
       "      <td>ok</td>\n",
       "      <td>0.544296</td>\n",
       "      <td>0.548173</td>\n",
       "      <td>0.552769</td>\n",
       "      <td>0.559563</td>\n",
       "      <td>0.566481</td>\n",
       "      <td>0.573265</td>\n",
       "      <td>0.579284</td>\n",
       "      <td>0.584034</td>\n",
       "      <td>...</td>\n",
       "      <td>1.239447</td>\n",
       "      <td>1.222684</td>\n",
       "      <td>1.218330</td>\n",
       "      <td>1.216055</td>\n",
       "      <td>1.225289</td>\n",
       "      <td>30.5</td>\n",
       "      <td>0.0105</td>\n",
       "      <td>44.463833</td>\n",
       "      <td>38.058000</td>\n",
       "      <td>45.0</td>\n",
       "    </tr>\n",
       "  </tbody>\n",
       "</table>\n",
       "<p>5 rows × 177 columns</p>\n",
       "</div>"
      ],
      "text/plain": [
       "   donation_id hdl_cholesterol_human  absorbance0  absorbance1  absorbance2  \\\n",
       "0         1993                    ok     0.514279     0.513265     0.519961   \n",
       "1         2015                   low     0.540908     0.545688     0.550133   \n",
       "2         2033                   low     0.521742     0.526067     0.530532   \n",
       "3         2057                    ok     0.544772     0.546507     0.549925   \n",
       "4         2062                    ok     0.544296     0.548173     0.552769   \n",
       "\n",
       "   absorbance3  absorbance4  absorbance5  absorbance6  absorbance7  ...  \\\n",
       "0     0.524351     0.532302     0.539595     0.546650     0.549287  ...   \n",
       "1     0.558058     0.566390     0.573959     0.579516     0.583041  ...   \n",
       "2     0.537283     0.543335     0.550589     0.556057     0.561660  ...   \n",
       "3     0.554592     0.558680     0.564276     0.569732     0.575052  ...   \n",
       "4     0.559563     0.566481     0.573265     0.579284     0.584034  ...   \n",
       "\n",
       "   absorbance165  absorbance166  absorbance167  absorbance168  absorbance169  \\\n",
       "0       1.070509       1.040377       1.016050       1.008676       0.991902   \n",
       "1       1.327204       1.309127       1.297630       1.296178       1.304298   \n",
       "2       1.282168       1.271663       1.259443       1.262324       1.269575   \n",
       "3       1.207374       1.205732       1.202735       1.205207       1.202510   \n",
       "4       1.239447       1.222684       1.218330       1.216055       1.225289   \n",
       "\n",
       "   scan_number     std  temperature   humidity  hdl_cholesterol_value  \n",
       "0         30.5  0.0160    45.762833  37.695667                   46.0  \n",
       "1         30.5  0.0161    46.042667  36.280667                   39.0  \n",
       "2         30.5  0.0105    43.774500  36.292833                   41.0  \n",
       "3         30.5  0.0150    40.251500  44.300000                   54.0  \n",
       "4         30.5  0.0105    44.463833  38.058000                   45.0  \n",
       "\n",
       "[5 rows x 177 columns]"
      ]
     },
     "execution_count": 3,
     "metadata": {},
     "output_type": "execute_result"
    }
   ],
   "source": [
    "x.head()"
   ]
  },
  {
   "cell_type": "code",
   "execution_count": 4,
   "metadata": {},
   "outputs": [
    {
     "data": {
      "text/plain": [
       "True"
      ]
     },
     "execution_count": 4,
     "metadata": {},
     "output_type": "execute_result"
    }
   ],
   "source": [
    "x.isnull().values.any()"
   ]
  },
  {
   "cell_type": "code",
   "execution_count": 5,
   "metadata": {},
   "outputs": [
    {
     "data": {
      "text/plain": [
       "donation_id              0\n",
       "hdl_cholesterol_human    0\n",
       "absorbance0              2\n",
       "absorbance1              0\n",
       "absorbance2              0\n",
       "                        ..\n",
       "scan_number              0\n",
       "std                      0\n",
       "temperature              0\n",
       "humidity                 0\n",
       "hdl_cholesterol_value    0\n",
       "Length: 177, dtype: int64"
      ]
     },
     "execution_count": 5,
     "metadata": {},
     "output_type": "execute_result"
    }
   ],
   "source": [
    "x.isnull().sum()"
   ]
  },
  {
   "cell_type": "code",
   "execution_count": 6,
   "metadata": {},
   "outputs": [],
   "source": [
    " x=x.fillna(0)"
   ]
  },
  {
   "cell_type": "code",
   "execution_count": 7,
   "metadata": {},
   "outputs": [
    {
     "data": {
      "text/plain": [
       "False"
      ]
     },
     "execution_count": 7,
     "metadata": {},
     "output_type": "execute_result"
    }
   ],
   "source": [
    "x.isnull().values.any()"
   ]
  },
  {
   "cell_type": "code",
   "execution_count": 8,
   "metadata": {},
   "outputs": [],
   "source": [
    "x.to_csv(\"No_NULL_Additional_hdl_rows_483_full.csv\",index=False)"
   ]
  },
  {
   "cell_type": "code",
   "execution_count": null,
   "metadata": {},
   "outputs": [],
   "source": []
  }
 ],
 "metadata": {
  "kernelspec": {
   "display_name": "Python 3",
   "language": "python",
   "name": "python3"
  },
  "language_info": {
   "codemirror_mode": {
    "name": "ipython",
    "version": 3
   },
   "file_extension": ".py",
   "mimetype": "text/x-python",
   "name": "python",
   "nbconvert_exporter": "python",
   "pygments_lexer": "ipython3",
   "version": "3.8.3"
  }
 },
 "nbformat": 4,
 "nbformat_minor": 4
}
