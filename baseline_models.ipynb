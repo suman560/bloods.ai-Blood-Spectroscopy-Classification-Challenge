{
 "cells": [
  {
   "cell_type": "code",
   "execution_count": 1,
   "metadata": {},
   "outputs": [],
   "source": [
    "import os\n",
    "import pandas as pd\n",
    "import numpy as np\n",
    "import json\n",
    "import random, string\n",
    "import seaborn as sns\n",
    "import matplotlib.pyplot as plt \n",
    "%matplotlib inline"
   ]
  },
  {
   "cell_type": "code",
   "execution_count": 2,
   "metadata": {},
   "outputs": [],
   "source": [
    "maindir = \"./\" # Directory with your files\n",
    "traincsv = maindir+\"/Final_Train.csv\"\n",
    "testcsv = maindir+\"/Final_Test.csv\""
   ]
  },
  {
   "cell_type": "code",
   "execution_count": 3,
   "metadata": {},
   "outputs": [
    {
     "data": {
      "text/html": [
       "<div>\n",
       "<style scoped>\n",
       "    .dataframe tbody tr th:only-of-type {\n",
       "        vertical-align: middle;\n",
       "    }\n",
       "\n",
       "    .dataframe tbody tr th {\n",
       "        vertical-align: top;\n",
       "    }\n",
       "\n",
       "    .dataframe thead th {\n",
       "        text-align: right;\n",
       "    }\n",
       "</style>\n",
       "<table border=\"1\" class=\"dataframe\">\n",
       "  <thead>\n",
       "    <tr style=\"text-align: right;\">\n",
       "      <th></th>\n",
       "      <th>donation_id</th>\n",
       "      <th>hdl_cholesterol_human</th>\n",
       "      <th>hemoglobin(hgb)_human</th>\n",
       "      <th>cholesterol_ldl_human</th>\n",
       "      <th>absorbance0</th>\n",
       "      <th>absorbance1</th>\n",
       "      <th>absorbance2</th>\n",
       "      <th>absorbance3</th>\n",
       "      <th>absorbance4</th>\n",
       "      <th>absorbance5</th>\n",
       "      <th>...</th>\n",
       "      <th>absorbance164</th>\n",
       "      <th>absorbance165</th>\n",
       "      <th>absorbance166</th>\n",
       "      <th>absorbance167</th>\n",
       "      <th>absorbance168</th>\n",
       "      <th>absorbance169</th>\n",
       "      <th>id</th>\n",
       "      <th>std</th>\n",
       "      <th>temperature</th>\n",
       "      <th>humidity</th>\n",
       "    </tr>\n",
       "  </thead>\n",
       "  <tbody>\n",
       "    <tr>\n",
       "      <th>0</th>\n",
       "      <td>1975</td>\n",
       "      <td>low</td>\n",
       "      <td>ok</td>\n",
       "      <td>ok</td>\n",
       "      <td>0.505055</td>\n",
       "      <td>0.506570</td>\n",
       "      <td>0.511544</td>\n",
       "      <td>0.516300</td>\n",
       "      <td>0.524067</td>\n",
       "      <td>0.530191</td>\n",
       "      <td>...</td>\n",
       "      <td>1.401169</td>\n",
       "      <td>1.395687</td>\n",
       "      <td>1.390813</td>\n",
       "      <td>1.384304</td>\n",
       "      <td>1.395545</td>\n",
       "      <td>1.369307</td>\n",
       "      <td>12149.5</td>\n",
       "      <td>0.0073</td>\n",
       "      <td>42.332500</td>\n",
       "      <td>37.773000</td>\n",
       "    </tr>\n",
       "    <tr>\n",
       "      <th>1</th>\n",
       "      <td>1982</td>\n",
       "      <td>low</td>\n",
       "      <td>ok</td>\n",
       "      <td>high</td>\n",
       "      <td>0.523531</td>\n",
       "      <td>0.523485</td>\n",
       "      <td>0.526291</td>\n",
       "      <td>0.532875</td>\n",
       "      <td>0.538397</td>\n",
       "      <td>0.543180</td>\n",
       "      <td>...</td>\n",
       "      <td>1.299807</td>\n",
       "      <td>1.299004</td>\n",
       "      <td>1.298251</td>\n",
       "      <td>1.297575</td>\n",
       "      <td>1.302398</td>\n",
       "      <td>1.284716</td>\n",
       "      <td>4589.5</td>\n",
       "      <td>0.0043</td>\n",
       "      <td>39.385167</td>\n",
       "      <td>43.316667</td>\n",
       "    </tr>\n",
       "    <tr>\n",
       "      <th>2</th>\n",
       "      <td>1989</td>\n",
       "      <td>low</td>\n",
       "      <td>ok</td>\n",
       "      <td>high</td>\n",
       "      <td>0.516449</td>\n",
       "      <td>0.519226</td>\n",
       "      <td>0.523619</td>\n",
       "      <td>0.532366</td>\n",
       "      <td>0.540438</td>\n",
       "      <td>0.547985</td>\n",
       "      <td>...</td>\n",
       "      <td>1.247736</td>\n",
       "      <td>1.228340</td>\n",
       "      <td>1.211511</td>\n",
       "      <td>1.204599</td>\n",
       "      <td>1.212862</td>\n",
       "      <td>1.193458</td>\n",
       "      <td>6149.5</td>\n",
       "      <td>0.0046</td>\n",
       "      <td>42.455500</td>\n",
       "      <td>46.535167</td>\n",
       "    </tr>\n",
       "    <tr>\n",
       "      <th>3</th>\n",
       "      <td>1994</td>\n",
       "      <td>low</td>\n",
       "      <td>ok</td>\n",
       "      <td>high</td>\n",
       "      <td>0.512397</td>\n",
       "      <td>0.514371</td>\n",
       "      <td>0.518486</td>\n",
       "      <td>0.520868</td>\n",
       "      <td>0.526911</td>\n",
       "      <td>0.534963</td>\n",
       "      <td>...</td>\n",
       "      <td>1.254238</td>\n",
       "      <td>1.246901</td>\n",
       "      <td>1.248287</td>\n",
       "      <td>1.245556</td>\n",
       "      <td>1.266079</td>\n",
       "      <td>1.258333</td>\n",
       "      <td>36049.5</td>\n",
       "      <td>0.0098</td>\n",
       "      <td>45.173333</td>\n",
       "      <td>37.369333</td>\n",
       "    </tr>\n",
       "    <tr>\n",
       "      <th>4</th>\n",
       "      <td>2002</td>\n",
       "      <td>low</td>\n",
       "      <td>ok</td>\n",
       "      <td>ok</td>\n",
       "      <td>0.496008</td>\n",
       "      <td>0.496698</td>\n",
       "      <td>0.499643</td>\n",
       "      <td>0.502549</td>\n",
       "      <td>0.506363</td>\n",
       "      <td>0.511604</td>\n",
       "      <td>...</td>\n",
       "      <td>1.196379</td>\n",
       "      <td>1.197037</td>\n",
       "      <td>1.195206</td>\n",
       "      <td>1.199005</td>\n",
       "      <td>1.222712</td>\n",
       "      <td>1.213309</td>\n",
       "      <td>35989.5</td>\n",
       "      <td>0.0096</td>\n",
       "      <td>45.523667</td>\n",
       "      <td>38.557500</td>\n",
       "    </tr>\n",
       "  </tbody>\n",
       "</table>\n",
       "<p>5 rows × 178 columns</p>\n",
       "</div>"
      ],
      "text/plain": [
       "   donation_id hdl_cholesterol_human hemoglobin(hgb)_human  \\\n",
       "0         1975                   low                    ok   \n",
       "1         1982                   low                    ok   \n",
       "2         1989                   low                    ok   \n",
       "3         1994                   low                    ok   \n",
       "4         2002                   low                    ok   \n",
       "\n",
       "  cholesterol_ldl_human  absorbance0  absorbance1  absorbance2  absorbance3  \\\n",
       "0                    ok     0.505055     0.506570     0.511544     0.516300   \n",
       "1                  high     0.523531     0.523485     0.526291     0.532875   \n",
       "2                  high     0.516449     0.519226     0.523619     0.532366   \n",
       "3                  high     0.512397     0.514371     0.518486     0.520868   \n",
       "4                    ok     0.496008     0.496698     0.499643     0.502549   \n",
       "\n",
       "   absorbance4  absorbance5  ...  absorbance164  absorbance165  absorbance166  \\\n",
       "0     0.524067     0.530191  ...       1.401169       1.395687       1.390813   \n",
       "1     0.538397     0.543180  ...       1.299807       1.299004       1.298251   \n",
       "2     0.540438     0.547985  ...       1.247736       1.228340       1.211511   \n",
       "3     0.526911     0.534963  ...       1.254238       1.246901       1.248287   \n",
       "4     0.506363     0.511604  ...       1.196379       1.197037       1.195206   \n",
       "\n",
       "   absorbance167  absorbance168  absorbance169       id     std  temperature  \\\n",
       "0       1.384304       1.395545       1.369307  12149.5  0.0073    42.332500   \n",
       "1       1.297575       1.302398       1.284716   4589.5  0.0043    39.385167   \n",
       "2       1.204599       1.212862       1.193458   6149.5  0.0046    42.455500   \n",
       "3       1.245556       1.266079       1.258333  36049.5  0.0098    45.173333   \n",
       "4       1.199005       1.222712       1.213309  35989.5  0.0096    45.523667   \n",
       "\n",
       "    humidity  \n",
       "0  37.773000  \n",
       "1  43.316667  \n",
       "2  46.535167  \n",
       "3  37.369333  \n",
       "4  38.557500  \n",
       "\n",
       "[5 rows x 178 columns]"
      ]
     },
     "execution_count": 3,
     "metadata": {},
     "output_type": "execute_result"
    }
   ],
   "source": [
    "train = pd.read_csv(traincsv)\n",
    "train.head()"
   ]
  },
  {
   "cell_type": "code",
   "execution_count": 4,
   "metadata": {},
   "outputs": [
    {
     "data": {
      "text/plain": [
       "(486, 178)"
      ]
     },
     "execution_count": 4,
     "metadata": {},
     "output_type": "execute_result"
    }
   ],
   "source": [
    "train.shape"
   ]
  },
  {
   "cell_type": "code",
   "execution_count": 5,
   "metadata": {},
   "outputs": [],
   "source": [
    "train.drop([\"donation_id\"], axis=1, inplace=True)\n",
    "train.drop([\"id\"], axis=1, inplace=True)\n",
    "train.drop([\"std\"], axis=1, inplace=True)\n",
    "# data = train.to_numpy()\n",
    "# print(data.shape) # 219 IDs"
   ]
  },
  {
   "cell_type": "code",
   "execution_count": 6,
   "metadata": {},
   "outputs": [
    {
     "data": {
      "text/html": [
       "<div>\n",
       "<style scoped>\n",
       "    .dataframe tbody tr th:only-of-type {\n",
       "        vertical-align: middle;\n",
       "    }\n",
       "\n",
       "    .dataframe tbody tr th {\n",
       "        vertical-align: top;\n",
       "    }\n",
       "\n",
       "    .dataframe thead th {\n",
       "        text-align: right;\n",
       "    }\n",
       "</style>\n",
       "<table border=\"1\" class=\"dataframe\">\n",
       "  <thead>\n",
       "    <tr style=\"text-align: right;\">\n",
       "      <th></th>\n",
       "      <th>hdl_cholesterol_human</th>\n",
       "      <th>hemoglobin(hgb)_human</th>\n",
       "      <th>cholesterol_ldl_human</th>\n",
       "      <th>absorbance0</th>\n",
       "      <th>absorbance1</th>\n",
       "      <th>absorbance2</th>\n",
       "      <th>absorbance3</th>\n",
       "      <th>absorbance4</th>\n",
       "      <th>absorbance5</th>\n",
       "      <th>absorbance6</th>\n",
       "      <th>...</th>\n",
       "      <th>absorbance162</th>\n",
       "      <th>absorbance163</th>\n",
       "      <th>absorbance164</th>\n",
       "      <th>absorbance165</th>\n",
       "      <th>absorbance166</th>\n",
       "      <th>absorbance167</th>\n",
       "      <th>absorbance168</th>\n",
       "      <th>absorbance169</th>\n",
       "      <th>temperature</th>\n",
       "      <th>humidity</th>\n",
       "    </tr>\n",
       "  </thead>\n",
       "  <tbody>\n",
       "    <tr>\n",
       "      <th>0</th>\n",
       "      <td>low</td>\n",
       "      <td>ok</td>\n",
       "      <td>ok</td>\n",
       "      <td>0.505055</td>\n",
       "      <td>0.506570</td>\n",
       "      <td>0.511544</td>\n",
       "      <td>0.516300</td>\n",
       "      <td>0.524067</td>\n",
       "      <td>0.530191</td>\n",
       "      <td>0.536138</td>\n",
       "      <td>...</td>\n",
       "      <td>1.410468</td>\n",
       "      <td>1.409675</td>\n",
       "      <td>1.401169</td>\n",
       "      <td>1.395687</td>\n",
       "      <td>1.390813</td>\n",
       "      <td>1.384304</td>\n",
       "      <td>1.395545</td>\n",
       "      <td>1.369307</td>\n",
       "      <td>42.332500</td>\n",
       "      <td>37.773000</td>\n",
       "    </tr>\n",
       "    <tr>\n",
       "      <th>1</th>\n",
       "      <td>low</td>\n",
       "      <td>ok</td>\n",
       "      <td>high</td>\n",
       "      <td>0.523531</td>\n",
       "      <td>0.523485</td>\n",
       "      <td>0.526291</td>\n",
       "      <td>0.532875</td>\n",
       "      <td>0.538397</td>\n",
       "      <td>0.543180</td>\n",
       "      <td>0.547520</td>\n",
       "      <td>...</td>\n",
       "      <td>1.298688</td>\n",
       "      <td>1.301346</td>\n",
       "      <td>1.299807</td>\n",
       "      <td>1.299004</td>\n",
       "      <td>1.298251</td>\n",
       "      <td>1.297575</td>\n",
       "      <td>1.302398</td>\n",
       "      <td>1.284716</td>\n",
       "      <td>39.385167</td>\n",
       "      <td>43.316667</td>\n",
       "    </tr>\n",
       "    <tr>\n",
       "      <th>2</th>\n",
       "      <td>low</td>\n",
       "      <td>ok</td>\n",
       "      <td>high</td>\n",
       "      <td>0.516449</td>\n",
       "      <td>0.519226</td>\n",
       "      <td>0.523619</td>\n",
       "      <td>0.532366</td>\n",
       "      <td>0.540438</td>\n",
       "      <td>0.547985</td>\n",
       "      <td>0.552716</td>\n",
       "      <td>...</td>\n",
       "      <td>1.283621</td>\n",
       "      <td>1.272086</td>\n",
       "      <td>1.247736</td>\n",
       "      <td>1.228340</td>\n",
       "      <td>1.211511</td>\n",
       "      <td>1.204599</td>\n",
       "      <td>1.212862</td>\n",
       "      <td>1.193458</td>\n",
       "      <td>42.455500</td>\n",
       "      <td>46.535167</td>\n",
       "    </tr>\n",
       "    <tr>\n",
       "      <th>3</th>\n",
       "      <td>low</td>\n",
       "      <td>ok</td>\n",
       "      <td>high</td>\n",
       "      <td>0.512397</td>\n",
       "      <td>0.514371</td>\n",
       "      <td>0.518486</td>\n",
       "      <td>0.520868</td>\n",
       "      <td>0.526911</td>\n",
       "      <td>0.534963</td>\n",
       "      <td>0.542428</td>\n",
       "      <td>...</td>\n",
       "      <td>1.268378</td>\n",
       "      <td>1.262765</td>\n",
       "      <td>1.254238</td>\n",
       "      <td>1.246901</td>\n",
       "      <td>1.248287</td>\n",
       "      <td>1.245556</td>\n",
       "      <td>1.266079</td>\n",
       "      <td>1.258333</td>\n",
       "      <td>45.173333</td>\n",
       "      <td>37.369333</td>\n",
       "    </tr>\n",
       "    <tr>\n",
       "      <th>4</th>\n",
       "      <td>low</td>\n",
       "      <td>ok</td>\n",
       "      <td>ok</td>\n",
       "      <td>0.496008</td>\n",
       "      <td>0.496698</td>\n",
       "      <td>0.499643</td>\n",
       "      <td>0.502549</td>\n",
       "      <td>0.506363</td>\n",
       "      <td>0.511604</td>\n",
       "      <td>0.518730</td>\n",
       "      <td>...</td>\n",
       "      <td>1.201238</td>\n",
       "      <td>1.196827</td>\n",
       "      <td>1.196379</td>\n",
       "      <td>1.197037</td>\n",
       "      <td>1.195206</td>\n",
       "      <td>1.199005</td>\n",
       "      <td>1.222712</td>\n",
       "      <td>1.213309</td>\n",
       "      <td>45.523667</td>\n",
       "      <td>38.557500</td>\n",
       "    </tr>\n",
       "  </tbody>\n",
       "</table>\n",
       "<p>5 rows × 175 columns</p>\n",
       "</div>"
      ],
      "text/plain": [
       "  hdl_cholesterol_human hemoglobin(hgb)_human cholesterol_ldl_human  \\\n",
       "0                   low                    ok                    ok   \n",
       "1                   low                    ok                  high   \n",
       "2                   low                    ok                  high   \n",
       "3                   low                    ok                  high   \n",
       "4                   low                    ok                    ok   \n",
       "\n",
       "   absorbance0  absorbance1  absorbance2  absorbance3  absorbance4  \\\n",
       "0     0.505055     0.506570     0.511544     0.516300     0.524067   \n",
       "1     0.523531     0.523485     0.526291     0.532875     0.538397   \n",
       "2     0.516449     0.519226     0.523619     0.532366     0.540438   \n",
       "3     0.512397     0.514371     0.518486     0.520868     0.526911   \n",
       "4     0.496008     0.496698     0.499643     0.502549     0.506363   \n",
       "\n",
       "   absorbance5  absorbance6  ...  absorbance162  absorbance163  absorbance164  \\\n",
       "0     0.530191     0.536138  ...       1.410468       1.409675       1.401169   \n",
       "1     0.543180     0.547520  ...       1.298688       1.301346       1.299807   \n",
       "2     0.547985     0.552716  ...       1.283621       1.272086       1.247736   \n",
       "3     0.534963     0.542428  ...       1.268378       1.262765       1.254238   \n",
       "4     0.511604     0.518730  ...       1.201238       1.196827       1.196379   \n",
       "\n",
       "   absorbance165  absorbance166  absorbance167  absorbance168  absorbance169  \\\n",
       "0       1.395687       1.390813       1.384304       1.395545       1.369307   \n",
       "1       1.299004       1.298251       1.297575       1.302398       1.284716   \n",
       "2       1.228340       1.211511       1.204599       1.212862       1.193458   \n",
       "3       1.246901       1.248287       1.245556       1.266079       1.258333   \n",
       "4       1.197037       1.195206       1.199005       1.222712       1.213309   \n",
       "\n",
       "   temperature   humidity  \n",
       "0    42.332500  37.773000  \n",
       "1    39.385167  43.316667  \n",
       "2    42.455500  46.535167  \n",
       "3    45.173333  37.369333  \n",
       "4    45.523667  38.557500  \n",
       "\n",
       "[5 rows x 175 columns]"
      ]
     },
     "execution_count": 6,
     "metadata": {},
     "output_type": "execute_result"
    }
   ],
   "source": [
    "train.head()"
   ]
  },
  {
   "cell_type": "code",
   "execution_count": 7,
   "metadata": {},
   "outputs": [],
   "source": [
    "fdata =train.iloc[:,3:]"
   ]
  },
  {
   "cell_type": "code",
   "execution_count": 8,
   "metadata": {},
   "outputs": [],
   "source": [
    "fdata = fdata.apply(lambda x: (x-x.mean())/ x.std(), axis=0)"
   ]
  },
  {
   "cell_type": "code",
   "execution_count": 9,
   "metadata": {},
   "outputs": [
    {
     "name": "stdout",
     "output_type": "stream",
     "text": [
      "(486, 175)\n"
     ]
    }
   ],
   "source": [
    "data = train.to_numpy()\n",
    "\n",
    "print(data.shape) # 219 IDs"
   ]
  },
  {
   "cell_type": "code",
   "execution_count": 10,
   "metadata": {},
   "outputs": [],
   "source": [
    "ffdata = fdata.to_numpy()"
   ]
  },
  {
   "cell_type": "code",
   "execution_count": 11,
   "metadata": {},
   "outputs": [],
   "source": [
    "features = np.array(ffdata, dtype=float)\n",
    "labels = data[:, 0:3]"
   ]
  },
  {
   "cell_type": "code",
   "execution_count": null,
   "metadata": {},
   "outputs": [],
   "source": []
  },
  {
   "cell_type": "code",
   "execution_count": null,
   "metadata": {},
   "outputs": [],
   "source": []
  },
  {
   "cell_type": "code",
   "execution_count": 12,
   "metadata": {},
   "outputs": [
    {
     "data": {
      "text/html": [
       "<div>\n",
       "<style scoped>\n",
       "    .dataframe tbody tr th:only-of-type {\n",
       "        vertical-align: middle;\n",
       "    }\n",
       "\n",
       "    .dataframe tbody tr th {\n",
       "        vertical-align: top;\n",
       "    }\n",
       "\n",
       "    .dataframe thead th {\n",
       "        text-align: right;\n",
       "    }\n",
       "</style>\n",
       "<table border=\"1\" class=\"dataframe\">\n",
       "  <thead>\n",
       "    <tr style=\"text-align: right;\">\n",
       "      <th></th>\n",
       "      <th>donation_id</th>\n",
       "      <th>absorbance0</th>\n",
       "      <th>absorbance1</th>\n",
       "      <th>absorbance2</th>\n",
       "      <th>absorbance3</th>\n",
       "      <th>absorbance4</th>\n",
       "      <th>absorbance5</th>\n",
       "      <th>absorbance6</th>\n",
       "      <th>absorbance7</th>\n",
       "      <th>absorbance8</th>\n",
       "      <th>...</th>\n",
       "      <th>absorbance162</th>\n",
       "      <th>absorbance163</th>\n",
       "      <th>absorbance164</th>\n",
       "      <th>absorbance165</th>\n",
       "      <th>absorbance166</th>\n",
       "      <th>absorbance167</th>\n",
       "      <th>absorbance168</th>\n",
       "      <th>absorbance169</th>\n",
       "      <th>temperature</th>\n",
       "      <th>humidity</th>\n",
       "    </tr>\n",
       "  </thead>\n",
       "  <tbody>\n",
       "    <tr>\n",
       "      <th>0</th>\n",
       "      <td>ID_1961</td>\n",
       "      <td>0.499920</td>\n",
       "      <td>0.504608</td>\n",
       "      <td>0.507929</td>\n",
       "      <td>0.519943</td>\n",
       "      <td>0.529032</td>\n",
       "      <td>0.536118</td>\n",
       "      <td>0.539690</td>\n",
       "      <td>0.541710</td>\n",
       "      <td>0.548590</td>\n",
       "      <td>...</td>\n",
       "      <td>1.165124</td>\n",
       "      <td>1.140465</td>\n",
       "      <td>1.098607</td>\n",
       "      <td>1.065527</td>\n",
       "      <td>1.044592</td>\n",
       "      <td>1.035440</td>\n",
       "      <td>1.041868</td>\n",
       "      <td>1.027759</td>\n",
       "      <td>41.507000</td>\n",
       "      <td>40.839333</td>\n",
       "    </tr>\n",
       "    <tr>\n",
       "      <th>1</th>\n",
       "      <td>ID_2067</td>\n",
       "      <td>0.497758</td>\n",
       "      <td>0.498091</td>\n",
       "      <td>0.503083</td>\n",
       "      <td>0.507249</td>\n",
       "      <td>0.513739</td>\n",
       "      <td>0.521944</td>\n",
       "      <td>0.528798</td>\n",
       "      <td>0.533743</td>\n",
       "      <td>0.541470</td>\n",
       "      <td>...</td>\n",
       "      <td>1.221584</td>\n",
       "      <td>1.221688</td>\n",
       "      <td>1.221872</td>\n",
       "      <td>1.219100</td>\n",
       "      <td>1.221694</td>\n",
       "      <td>1.221569</td>\n",
       "      <td>1.233970</td>\n",
       "      <td>1.227104</td>\n",
       "      <td>42.656500</td>\n",
       "      <td>39.675167</td>\n",
       "    </tr>\n",
       "    <tr>\n",
       "      <th>2</th>\n",
       "      <td>ID_2155</td>\n",
       "      <td>0.551436</td>\n",
       "      <td>0.553079</td>\n",
       "      <td>0.556722</td>\n",
       "      <td>0.560722</td>\n",
       "      <td>0.565583</td>\n",
       "      <td>0.570889</td>\n",
       "      <td>0.578668</td>\n",
       "      <td>0.585142</td>\n",
       "      <td>0.594233</td>\n",
       "      <td>...</td>\n",
       "      <td>1.419018</td>\n",
       "      <td>1.422387</td>\n",
       "      <td>1.421566</td>\n",
       "      <td>1.422355</td>\n",
       "      <td>1.423502</td>\n",
       "      <td>1.433594</td>\n",
       "      <td>1.451166</td>\n",
       "      <td>1.433315</td>\n",
       "      <td>42.523833</td>\n",
       "      <td>41.728500</td>\n",
       "    </tr>\n",
       "    <tr>\n",
       "      <th>3</th>\n",
       "      <td>ID_2211</td>\n",
       "      <td>0.525926</td>\n",
       "      <td>0.528948</td>\n",
       "      <td>0.532222</td>\n",
       "      <td>0.540022</td>\n",
       "      <td>0.547279</td>\n",
       "      <td>0.554348</td>\n",
       "      <td>0.558680</td>\n",
       "      <td>0.563768</td>\n",
       "      <td>0.570031</td>\n",
       "      <td>...</td>\n",
       "      <td>1.264453</td>\n",
       "      <td>1.251708</td>\n",
       "      <td>1.234305</td>\n",
       "      <td>1.212873</td>\n",
       "      <td>1.203968</td>\n",
       "      <td>1.196735</td>\n",
       "      <td>1.201349</td>\n",
       "      <td>1.192471</td>\n",
       "      <td>40.505833</td>\n",
       "      <td>43.938667</td>\n",
       "    </tr>\n",
       "    <tr>\n",
       "      <th>4</th>\n",
       "      <td>ID_2327</td>\n",
       "      <td>0.559814</td>\n",
       "      <td>0.559612</td>\n",
       "      <td>0.561561</td>\n",
       "      <td>0.565162</td>\n",
       "      <td>0.567556</td>\n",
       "      <td>0.572362</td>\n",
       "      <td>0.579762</td>\n",
       "      <td>0.587761</td>\n",
       "      <td>0.599415</td>\n",
       "      <td>...</td>\n",
       "      <td>1.259556</td>\n",
       "      <td>1.266984</td>\n",
       "      <td>1.281871</td>\n",
       "      <td>1.294898</td>\n",
       "      <td>1.302489</td>\n",
       "      <td>1.304253</td>\n",
       "      <td>1.317566</td>\n",
       "      <td>1.295373</td>\n",
       "      <td>37.754333</td>\n",
       "      <td>24.961000</td>\n",
       "    </tr>\n",
       "  </tbody>\n",
       "</table>\n",
       "<p>5 rows × 173 columns</p>\n",
       "</div>"
      ],
      "text/plain": [
       "  donation_id  absorbance0  absorbance1  absorbance2  absorbance3  \\\n",
       "0     ID_1961     0.499920     0.504608     0.507929     0.519943   \n",
       "1     ID_2067     0.497758     0.498091     0.503083     0.507249   \n",
       "2     ID_2155     0.551436     0.553079     0.556722     0.560722   \n",
       "3     ID_2211     0.525926     0.528948     0.532222     0.540022   \n",
       "4     ID_2327     0.559814     0.559612     0.561561     0.565162   \n",
       "\n",
       "   absorbance4  absorbance5  absorbance6  absorbance7  absorbance8  ...  \\\n",
       "0     0.529032     0.536118     0.539690     0.541710     0.548590  ...   \n",
       "1     0.513739     0.521944     0.528798     0.533743     0.541470  ...   \n",
       "2     0.565583     0.570889     0.578668     0.585142     0.594233  ...   \n",
       "3     0.547279     0.554348     0.558680     0.563768     0.570031  ...   \n",
       "4     0.567556     0.572362     0.579762     0.587761     0.599415  ...   \n",
       "\n",
       "   absorbance162  absorbance163  absorbance164  absorbance165  absorbance166  \\\n",
       "0       1.165124       1.140465       1.098607       1.065527       1.044592   \n",
       "1       1.221584       1.221688       1.221872       1.219100       1.221694   \n",
       "2       1.419018       1.422387       1.421566       1.422355       1.423502   \n",
       "3       1.264453       1.251708       1.234305       1.212873       1.203968   \n",
       "4       1.259556       1.266984       1.281871       1.294898       1.302489   \n",
       "\n",
       "   absorbance167  absorbance168  absorbance169  temperature   humidity  \n",
       "0       1.035440       1.041868       1.027759    41.507000  40.839333  \n",
       "1       1.221569       1.233970       1.227104    42.656500  39.675167  \n",
       "2       1.433594       1.451166       1.433315    42.523833  41.728500  \n",
       "3       1.196735       1.201349       1.192471    40.505833  43.938667  \n",
       "4       1.304253       1.317566       1.295373    37.754333  24.961000  \n",
       "\n",
       "[5 rows x 173 columns]"
      ]
     },
     "execution_count": 12,
     "metadata": {},
     "output_type": "execute_result"
    }
   ],
   "source": [
    "test = pd.read_csv(testcsv)\n",
    "test.head()"
   ]
  },
  {
   "cell_type": "code",
   "execution_count": null,
   "metadata": {},
   "outputs": [],
   "source": []
  },
  {
   "cell_type": "code",
   "execution_count": 13,
   "metadata": {},
   "outputs": [],
   "source": [
    "# save it ids before dropping them\n",
    "idx = test.donation_id.values\n",
    "test.drop([\"donation_id\"], axis=1, inplace=True)\n",
    "#testdata = test.to_numpy()"
   ]
  },
  {
   "cell_type": "code",
   "execution_count": 14,
   "metadata": {},
   "outputs": [],
   "source": [
    "test = test.apply(lambda x: (x-x.mean())/ x.std(), axis=0)"
   ]
  },
  {
   "cell_type": "code",
   "execution_count": 15,
   "metadata": {},
   "outputs": [],
   "source": [
    "testdata = test.to_numpy()"
   ]
  },
  {
   "cell_type": "code",
   "execution_count": 16,
   "metadata": {},
   "outputs": [],
   "source": [
    "labels_n = np.zeros(labels.shape)\n",
    "labels_n[np.where(labels=='low')] = 0\n",
    "labels_n[np.where(labels=='ok')] = 1\n",
    "labels_n[np.where(labels=='high')] = 2"
   ]
  },
  {
   "cell_type": "code",
   "execution_count": null,
   "metadata": {},
   "outputs": [],
   "source": [
    "###Trying different models\n"
   ]
  },
  {
   "cell_type": "code",
   "execution_count": 41,
   "metadata": {},
   "outputs": [],
   "source": [
    "from sklearn.svm import SVC\n",
    "from sklearn.ensemble import RandomForestClassifier\n",
    "from sklearn.ensemble import BaggingClassifier, VotingClassifier \n",
    "# from sklearn.tree import DecisionTreeClassifier\n",
    "from sklearn.datasets import make_classification\n",
    "from sklearn.multioutput import MultiOutputClassifier\n",
    "# from sklearn.ensemble import RandomForestClassifier\n",
    "from sklearn.utils import shuffle\n",
    "# from xgboost import XGBClassifier\n",
    "# from sklearn.svm import SVC\n",
    "from sklearn.linear_model import LogisticRegression, Perceptron, RidgeClassifier, SGDClassifier"
   ]
  },
  {
   "cell_type": "code",
   "execution_count": 65,
   "metadata": {},
   "outputs": [
    {
     "name": "stdout",
     "output_type": "stream",
     "text": [
      "Collecting lightgbm\n",
      "  Downloading lightgbm-3.3.2-py3-none-win_amd64.whl (1.0 MB)\n",
      "Requirement already satisfied: numpy in c:\\users\\spectre\\anaconda3\\lib\\site-packages (from lightgbm) (1.18.5)\n",
      "Requirement already satisfied: scipy in c:\\users\\spectre\\anaconda3\\lib\\site-packages (from lightgbm) (1.5.0)\n",
      "Requirement already satisfied: scikit-learn!=0.22.0 in c:\\users\\spectre\\anaconda3\\lib\\site-packages (from lightgbm) (0.23.1)\n",
      "Requirement already satisfied: wheel in c:\\users\\spectre\\anaconda3\\lib\\site-packages (from lightgbm) (0.34.2)\n",
      "Requirement already satisfied: joblib>=0.11 in c:\\users\\spectre\\anaconda3\\lib\\site-packages (from scikit-learn!=0.22.0->lightgbm) (0.16.0)\n",
      "Requirement already satisfied: threadpoolctl>=2.0.0 in c:\\users\\spectre\\anaconda3\\lib\\site-packages (from scikit-learn!=0.22.0->lightgbm) (2.1.0)\n",
      "Installing collected packages: lightgbm\n",
      "Successfully installed lightgbm-3.3.2\n"
     ]
    }
   ],
   "source": [
    "!pip install lightgbm"
   ]
  },
  {
   "cell_type": "code",
   "execution_count": 66,
   "metadata": {},
   "outputs": [],
   "source": [
    "from sklearn import metrics\n",
    "import xgboost as xgb\n",
    "from xgboost import XGBClassifier\n",
    "import lightgbm as lgb\n",
    "from lightgbm import LGBMClassifier"
   ]
  },
  {
   "cell_type": "code",
   "execution_count": 67,
   "metadata": {},
   "outputs": [],
   "source": [
    "cv_number = 5"
   ]
  },
  {
   "cell_type": "code",
   "execution_count": 73,
   "metadata": {},
   "outputs": [],
   "source": [
    "from sklearn.model_selection import train_test_split, cross_val_score, GridSearchCV"
   ]
  },
  {
   "cell_type": "code",
   "execution_count": 104,
   "metadata": {},
   "outputs": [],
   "source": [
    "from sklearn.ensemble import RandomForestClassifier, GradientBoostingClassifier, ExtraTreesClassifier "
   ]
  },
  {
   "cell_type": "code",
   "execution_count": 149,
   "metadata": {},
   "outputs": [],
   "source": [
    "svc = SVC()\n",
    "#forest = RandomForestClassifier(random_state=1)\n",
    "#bagging_classifier = BaggingClassifier()\n",
    "#ridge_classifier = RidgeClassifier()\n",
    "#LGB_Classifier = LGBMClassifier()\n",
    "#gradient_boosting = GradientBoostingClassifier()\n",
    "#extra_trees_classifier = ExtraTreesClassifier()"
   ]
  },
  {
   "cell_type": "code",
   "execution_count": 150,
   "metadata": {},
   "outputs": [],
   "source": [
    "#Voting_Classifier_hard = VotingClassifier(estimators=[('svm', svc), ('rf', forest), ('bc', bagging_classifier)], voting='hard')"
   ]
  },
  {
   "cell_type": "code",
   "execution_count": 151,
   "metadata": {},
   "outputs": [
    {
     "name": "stderr",
     "output_type": "stream",
     "text": [
      "C:\\Users\\spectre\\anaconda3\\lib\\site-packages\\joblib\\externals\\loky\\process_executor.py:688: UserWarning: A worker stopped while some jobs were given to the executor. This can be caused by a too short worker timeout or by a memory leak.\n",
      "  warnings.warn(\n"
     ]
    }
   ],
   "source": [
    "n_samples, n_features = features.shape\n",
    "n_outputs = labels_n.shape[1]\n",
    "n_classes = 3\n",
    "#svc = SVC()\n",
    "multi_target_forest = MultiOutputClassifier(svc, n_jobs=-1)\n",
    "model = multi_target_forest.fit(features, labels_n)"
   ]
  },
  {
   "cell_type": "code",
   "execution_count": 152,
   "metadata": {},
   "outputs": [
    {
     "data": {
      "text/plain": [
       "0.22633744855967078"
      ]
     },
     "execution_count": 152,
     "metadata": {},
     "output_type": "execute_result"
    }
   ],
   "source": [
    "multi_target_forest.score(features, labels_n)"
   ]
  },
  {
   "cell_type": "code",
   "execution_count": 153,
   "metadata": {},
   "outputs": [],
   "source": [
    "def mymodel(features):\n",
    "    output = model.predict(features)\n",
    "    return output"
   ]
  },
  {
   "cell_type": "code",
   "execution_count": 154,
   "metadata": {},
   "outputs": [],
   "source": [
    "predictions = mymodel(testdata)"
   ]
  },
  {
   "cell_type": "code",
   "execution_count": 155,
   "metadata": {},
   "outputs": [],
   "source": [
    "ss = pd.DataFrame()\n",
    "ss[\"Reading_ID\"] = idx # don't messed up the ids. save them before.\n",
    "ss[\"hdl_cholesterol_human\"] = predictions[:,0]\n",
    "ss[\"hemoglobin(hgb)_human\"] = predictions[:,1]\n",
    "ss[\"cholesterol_ldl_human\"] = predictions[:,2]"
   ]
  },
  {
   "cell_type": "code",
   "execution_count": 156,
   "metadata": {},
   "outputs": [
    {
     "data": {
      "text/html": [
       "<div>\n",
       "<style scoped>\n",
       "    .dataframe tbody tr th:only-of-type {\n",
       "        vertical-align: middle;\n",
       "    }\n",
       "\n",
       "    .dataframe tbody tr th {\n",
       "        vertical-align: top;\n",
       "    }\n",
       "\n",
       "    .dataframe thead th {\n",
       "        text-align: right;\n",
       "    }\n",
       "</style>\n",
       "<table border=\"1\" class=\"dataframe\">\n",
       "  <thead>\n",
       "    <tr style=\"text-align: right;\">\n",
       "      <th></th>\n",
       "      <th>Reading_ID</th>\n",
       "      <th>hdl_cholesterol_human</th>\n",
       "      <th>hemoglobin(hgb)_human</th>\n",
       "      <th>cholesterol_ldl_human</th>\n",
       "    </tr>\n",
       "  </thead>\n",
       "  <tbody>\n",
       "    <tr>\n",
       "      <th>0</th>\n",
       "      <td>ID_1961</td>\n",
       "      <td>1.0</td>\n",
       "      <td>1.0</td>\n",
       "      <td>1.0</td>\n",
       "    </tr>\n",
       "    <tr>\n",
       "      <th>1</th>\n",
       "      <td>ID_2067</td>\n",
       "      <td>1.0</td>\n",
       "      <td>1.0</td>\n",
       "      <td>1.0</td>\n",
       "    </tr>\n",
       "    <tr>\n",
       "      <th>2</th>\n",
       "      <td>ID_2155</td>\n",
       "      <td>1.0</td>\n",
       "      <td>1.0</td>\n",
       "      <td>1.0</td>\n",
       "    </tr>\n",
       "    <tr>\n",
       "      <th>3</th>\n",
       "      <td>ID_2211</td>\n",
       "      <td>1.0</td>\n",
       "      <td>1.0</td>\n",
       "      <td>1.0</td>\n",
       "    </tr>\n",
       "    <tr>\n",
       "      <th>4</th>\n",
       "      <td>ID_2327</td>\n",
       "      <td>1.0</td>\n",
       "      <td>1.0</td>\n",
       "      <td>2.0</td>\n",
       "    </tr>\n",
       "    <tr>\n",
       "      <th>...</th>\n",
       "      <td>...</td>\n",
       "      <td>...</td>\n",
       "      <td>...</td>\n",
       "      <td>...</td>\n",
       "    </tr>\n",
       "    <tr>\n",
       "      <th>56</th>\n",
       "      <td>ID_6373</td>\n",
       "      <td>1.0</td>\n",
       "      <td>1.0</td>\n",
       "      <td>1.0</td>\n",
       "    </tr>\n",
       "    <tr>\n",
       "      <th>57</th>\n",
       "      <td>ID_6381</td>\n",
       "      <td>1.0</td>\n",
       "      <td>1.0</td>\n",
       "      <td>1.0</td>\n",
       "    </tr>\n",
       "    <tr>\n",
       "      <th>58</th>\n",
       "      <td>ID_6391</td>\n",
       "      <td>1.0</td>\n",
       "      <td>1.0</td>\n",
       "      <td>2.0</td>\n",
       "    </tr>\n",
       "    <tr>\n",
       "      <th>59</th>\n",
       "      <td>ID_7755</td>\n",
       "      <td>1.0</td>\n",
       "      <td>1.0</td>\n",
       "      <td>1.0</td>\n",
       "    </tr>\n",
       "    <tr>\n",
       "      <th>60</th>\n",
       "      <td>ID_7821</td>\n",
       "      <td>1.0</td>\n",
       "      <td>1.0</td>\n",
       "      <td>1.0</td>\n",
       "    </tr>\n",
       "  </tbody>\n",
       "</table>\n",
       "<p>61 rows × 4 columns</p>\n",
       "</div>"
      ],
      "text/plain": [
       "   Reading_ID  hdl_cholesterol_human  hemoglobin(hgb)_human  \\\n",
       "0     ID_1961                    1.0                    1.0   \n",
       "1     ID_2067                    1.0                    1.0   \n",
       "2     ID_2155                    1.0                    1.0   \n",
       "3     ID_2211                    1.0                    1.0   \n",
       "4     ID_2327                    1.0                    1.0   \n",
       "..        ...                    ...                    ...   \n",
       "56    ID_6373                    1.0                    1.0   \n",
       "57    ID_6381                    1.0                    1.0   \n",
       "58    ID_6391                    1.0                    1.0   \n",
       "59    ID_7755                    1.0                    1.0   \n",
       "60    ID_7821                    1.0                    1.0   \n",
       "\n",
       "    cholesterol_ldl_human  \n",
       "0                     1.0  \n",
       "1                     1.0  \n",
       "2                     1.0  \n",
       "3                     1.0  \n",
       "4                     2.0  \n",
       "..                    ...  \n",
       "56                    1.0  \n",
       "57                    1.0  \n",
       "58                    2.0  \n",
       "59                    1.0  \n",
       "60                    1.0  \n",
       "\n",
       "[61 rows x 4 columns]"
      ]
     },
     "execution_count": 156,
     "metadata": {},
     "output_type": "execute_result"
    }
   ],
   "source": [
    "ss"
   ]
  },
  {
   "cell_type": "code",
   "execution_count": 157,
   "metadata": {},
   "outputs": [],
   "source": [
    "def transform(value):\n",
    "    if value == 0.0:\n",
    "        return 'low'\n",
    "    elif value == 1.0:\n",
    "        return 'ok'\n",
    "    else:\n",
    "        return 'high'\n",
    "        "
   ]
  },
  {
   "cell_type": "code",
   "execution_count": 158,
   "metadata": {},
   "outputs": [],
   "source": [
    "ss[\"hdl_cholesterol_human\"] = ss[\"hdl_cholesterol_human\"].apply(lambda x: transform(x))\n",
    "ss[\"hemoglobin(hgb)_human\"] = ss[\"hemoglobin(hgb)_human\"].apply(lambda x: transform(x))\n",
    "ss[\"cholesterol_ldl_human\"] = ss[\"cholesterol_ldl_human\"].apply(lambda x: transform(x))"
   ]
  },
  {
   "cell_type": "code",
   "execution_count": 159,
   "metadata": {},
   "outputs": [
    {
     "data": {
      "text/html": [
       "<div>\n",
       "<style scoped>\n",
       "    .dataframe tbody tr th:only-of-type {\n",
       "        vertical-align: middle;\n",
       "    }\n",
       "\n",
       "    .dataframe tbody tr th {\n",
       "        vertical-align: top;\n",
       "    }\n",
       "\n",
       "    .dataframe thead th {\n",
       "        text-align: right;\n",
       "    }\n",
       "</style>\n",
       "<table border=\"1\" class=\"dataframe\">\n",
       "  <thead>\n",
       "    <tr style=\"text-align: right;\">\n",
       "      <th></th>\n",
       "      <th>Reading_ID</th>\n",
       "      <th>hdl_cholesterol_human</th>\n",
       "      <th>hemoglobin(hgb)_human</th>\n",
       "      <th>cholesterol_ldl_human</th>\n",
       "    </tr>\n",
       "  </thead>\n",
       "  <tbody>\n",
       "    <tr>\n",
       "      <th>0</th>\n",
       "      <td>ID_1961</td>\n",
       "      <td>ok</td>\n",
       "      <td>ok</td>\n",
       "      <td>ok</td>\n",
       "    </tr>\n",
       "    <tr>\n",
       "      <th>1</th>\n",
       "      <td>ID_2067</td>\n",
       "      <td>ok</td>\n",
       "      <td>ok</td>\n",
       "      <td>ok</td>\n",
       "    </tr>\n",
       "    <tr>\n",
       "      <th>2</th>\n",
       "      <td>ID_2155</td>\n",
       "      <td>ok</td>\n",
       "      <td>ok</td>\n",
       "      <td>ok</td>\n",
       "    </tr>\n",
       "    <tr>\n",
       "      <th>3</th>\n",
       "      <td>ID_2211</td>\n",
       "      <td>ok</td>\n",
       "      <td>ok</td>\n",
       "      <td>ok</td>\n",
       "    </tr>\n",
       "    <tr>\n",
       "      <th>4</th>\n",
       "      <td>ID_2327</td>\n",
       "      <td>ok</td>\n",
       "      <td>ok</td>\n",
       "      <td>high</td>\n",
       "    </tr>\n",
       "  </tbody>\n",
       "</table>\n",
       "</div>"
      ],
      "text/plain": [
       "  Reading_ID hdl_cholesterol_human hemoglobin(hgb)_human cholesterol_ldl_human\n",
       "0    ID_1961                    ok                    ok                    ok\n",
       "1    ID_2067                    ok                    ok                    ok\n",
       "2    ID_2155                    ok                    ok                    ok\n",
       "3    ID_2211                    ok                    ok                    ok\n",
       "4    ID_2327                    ok                    ok                  high"
      ]
     },
     "execution_count": 159,
     "metadata": {},
     "output_type": "execute_result"
    }
   ],
   "source": [
    "ss.head()"
   ]
  },
  {
   "cell_type": "code",
   "execution_count": 160,
   "metadata": {},
   "outputs": [],
   "source": [
    "def transform_c_hdl(row):\n",
    "    return str(row[\"Reading_ID\"]) + \"_hdl_cholesterol_human\" + \"-\" +  row[\"hdl_cholesterol_human\"]"
   ]
  },
  {
   "cell_type": "code",
   "execution_count": 161,
   "metadata": {},
   "outputs": [],
   "source": [
    "hdl_rows = pd.DataFrame(ss.apply(transform_c_hdl, axis=1))"
   ]
  },
  {
   "cell_type": "code",
   "execution_count": 162,
   "metadata": {},
   "outputs": [],
   "source": [
    "def transform_hemo(row):\n",
    "    return str(row[\"Reading_ID\"]) + \"_hemoglobin(hgb)_human\" +  \"-\" + row[\"hemoglobin(hgb)_human\"]"
   ]
  },
  {
   "cell_type": "code",
   "execution_count": 163,
   "metadata": {},
   "outputs": [],
   "source": [
    "hemo_rows = pd.DataFrame(ss.apply(transform_hemo, axis=1))"
   ]
  },
  {
   "cell_type": "code",
   "execution_count": 164,
   "metadata": {},
   "outputs": [],
   "source": [
    "def transform_c_ldl(row):\n",
    "    return str(row[\"Reading_ID\"]) + \"_cholesterol_ldl_human\" +  \"-\" + row[\"cholesterol_ldl_human\"]"
   ]
  },
  {
   "cell_type": "code",
   "execution_count": 165,
   "metadata": {},
   "outputs": [],
   "source": [
    "ldl_rows = pd.DataFrame(ss.apply(transform_c_ldl, axis=1))"
   ]
  },
  {
   "cell_type": "code",
   "execution_count": 166,
   "metadata": {},
   "outputs": [],
   "source": [
    "ss = pd.concat([hdl_rows, hemo_rows, ldl_rows]).reset_index(drop=True)"
   ]
  },
  {
   "cell_type": "code",
   "execution_count": 167,
   "metadata": {},
   "outputs": [],
   "source": [
    "ss[\"target\"] = ss[0].apply(lambda x: x.split(\"-\")[1])\n",
    "ss[0] = ss[0].apply(lambda x: x.split(\"-\")[0])"
   ]
  },
  {
   "cell_type": "code",
   "execution_count": 168,
   "metadata": {},
   "outputs": [],
   "source": [
    "ss = ss.rename(columns={0:\"Reading_ID\"})"
   ]
  },
  {
   "cell_type": "code",
   "execution_count": 169,
   "metadata": {},
   "outputs": [
    {
     "data": {
      "text/html": [
       "<div>\n",
       "<style scoped>\n",
       "    .dataframe tbody tr th:only-of-type {\n",
       "        vertical-align: middle;\n",
       "    }\n",
       "\n",
       "    .dataframe tbody tr th {\n",
       "        vertical-align: top;\n",
       "    }\n",
       "\n",
       "    .dataframe thead th {\n",
       "        text-align: right;\n",
       "    }\n",
       "</style>\n",
       "<table border=\"1\" class=\"dataframe\">\n",
       "  <thead>\n",
       "    <tr style=\"text-align: right;\">\n",
       "      <th></th>\n",
       "      <th>Reading_ID</th>\n",
       "      <th>target</th>\n",
       "    </tr>\n",
       "  </thead>\n",
       "  <tbody>\n",
       "    <tr>\n",
       "      <th>0</th>\n",
       "      <td>ID_1961_hdl_cholesterol_human</td>\n",
       "      <td>ok</td>\n",
       "    </tr>\n",
       "    <tr>\n",
       "      <th>1</th>\n",
       "      <td>ID_2067_hdl_cholesterol_human</td>\n",
       "      <td>ok</td>\n",
       "    </tr>\n",
       "    <tr>\n",
       "      <th>2</th>\n",
       "      <td>ID_2155_hdl_cholesterol_human</td>\n",
       "      <td>ok</td>\n",
       "    </tr>\n",
       "    <tr>\n",
       "      <th>3</th>\n",
       "      <td>ID_2211_hdl_cholesterol_human</td>\n",
       "      <td>ok</td>\n",
       "    </tr>\n",
       "    <tr>\n",
       "      <th>4</th>\n",
       "      <td>ID_2327_hdl_cholesterol_human</td>\n",
       "      <td>ok</td>\n",
       "    </tr>\n",
       "  </tbody>\n",
       "</table>\n",
       "</div>"
      ],
      "text/plain": [
       "                      Reading_ID target\n",
       "0  ID_1961_hdl_cholesterol_human     ok\n",
       "1  ID_2067_hdl_cholesterol_human     ok\n",
       "2  ID_2155_hdl_cholesterol_human     ok\n",
       "3  ID_2211_hdl_cholesterol_human     ok\n",
       "4  ID_2327_hdl_cholesterol_human     ok"
      ]
     },
     "execution_count": 169,
     "metadata": {},
     "output_type": "execute_result"
    }
   ],
   "source": [
    "ss.head()"
   ]
  },
  {
   "cell_type": "code",
   "execution_count": 170,
   "metadata": {},
   "outputs": [
    {
     "data": {
      "text/plain": [
       "(183, 2)"
      ]
     },
     "execution_count": 170,
     "metadata": {},
     "output_type": "execute_result"
    }
   ],
   "source": [
    "ss.shape"
   ]
  },
  {
   "cell_type": "code",
   "execution_count": 171,
   "metadata": {},
   "outputs": [],
   "source": [
    "ss.to_csv(maindir+\"/svm.csv\", index=False)"
   ]
  },
  {
   "cell_type": "code",
   "execution_count": null,
   "metadata": {},
   "outputs": [],
   "source": []
  }
 ],
 "metadata": {
  "kernelspec": {
   "display_name": "Python 3",
   "language": "python",
   "name": "python3"
  },
  "language_info": {
   "codemirror_mode": {
    "name": "ipython",
    "version": 3
   },
   "file_extension": ".py",
   "mimetype": "text/x-python",
   "name": "python",
   "nbconvert_exporter": "python",
   "pygments_lexer": "ipython3",
   "version": "3.8.3"
  }
 },
 "nbformat": 4,
 "nbformat_minor": 4
}
